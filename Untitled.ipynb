{
 "cells": [
  {
   "cell_type": "code",
   "execution_count": 1,
   "id": "15273757-a282-4bd1-98ee-28abb3440edf",
   "metadata": {},
   "outputs": [],
   "source": [
    "import pandas as pd\n",
    "import numpy as np\n",
    "import re\n",
    "import string\n",
    "from sklearn.model_selection import train_test_split\n",
    "from sklearn.feature_extraction.text import TfidfVectorizer\n",
    "from sklearn.linear_model import LogisticRegression\n",
    "from sklearn.metrics import accuracy_score, classification_report"
   ]
  },
  {
   "cell_type": "code",
   "execution_count": 2,
   "id": "52f0f21a-c660-4487-8b32-2d2331d51253",
   "metadata": {},
   "outputs": [],
   "source": [
    "def wordopt(text):\n",
    "    text = text.lower()\n",
    "    text = re.sub(r'\\[.*?\\]', '', text)\n",
    "    text = re.sub(r'http\\S+|www\\S+', '', text)\n",
    "    text = re.sub(r'<.*?>+', '', text)\n",
    "    text = re.sub(r'[%s]' % re.escape(string.punctuation), '', text)\n",
    "    text = re.sub(r'\\n', ' ', text)\n",
    "    text = re.sub(r'\\w*\\d\\w*', '', text)  # You can try commenting this line out if dates are important\n",
    "    text = re.sub(r'\\s+', ' ', text).strip()  # Normalize whitespace\n",
    "    return text"
   ]
  },
  {
   "cell_type": "code",
   "execution_count": 3,
   "id": "e0f19132-575f-4d9e-bd6e-48a9e21eaf91",
   "metadata": {},
   "outputs": [],
   "source": [
    "\n",
    "def output_label(n):\n",
    "    return \"Fake News\" if n == 0 else \"Not A Fake News\""
   ]
  },
  {
   "cell_type": "code",
   "execution_count": 4,
   "id": "56e33fc2-b8f4-4e9d-98d8-36ec5c9708e6",
   "metadata": {},
   "outputs": [],
   "source": [
    "def manual_testing(news):\n",
    "    test_news = {\"text\": [news]}\n",
    "    new_test_df = pd.DataFrame(test_news)\n",
    "    new_test_df[\"text\"] = new_test_df[\"text\"].apply(wordopt)\n",
    "    new_x_test = new_test_df[\"text\"]\n",
    "    new_xv_test = vectorization.transform(new_x_test)\n",
    "    pred_LR = LR.predict(new_xv_test)\n",
    "    print(f\"\\nLR Prediction: {output_label(pred_LR[0])}\")"
   ]
  },
  {
   "cell_type": "code",
   "execution_count": 5,
   "id": "4cbd5dfb-ec32-476e-acf3-111ea5c5b0d1",
   "metadata": {},
   "outputs": [],
   "source": [
    "data_true = pd.read_csv('True.csv')\n",
    "data_fake = pd.read_csv('Fake.csv')"
   ]
  },
  {
   "cell_type": "code",
   "execution_count": 6,
   "id": "718c2470-f1cc-4ae7-8075-8a29bae148fc",
   "metadata": {},
   "outputs": [],
   "source": [
    "data_fake[\"class\"] = 0\n",
    "data_true[\"class\"] = 1"
   ]
  },
  {
   "cell_type": "code",
   "execution_count": 7,
   "id": "4d1d6b03-bc27-40c5-b644-9ddb2865264d",
   "metadata": {},
   "outputs": [],
   "source": [
    "data_fake_manual_testing = data_fake.tail(10)\n",
    "data_fake = data_fake.iloc[:-10]"
   ]
  },
  {
   "cell_type": "code",
   "execution_count": 8,
   "id": "5dc934aa-e30f-4a84-a3db-38d67a662258",
   "metadata": {},
   "outputs": [],
   "source": [
    "\n",
    "data_true_manual_testing = data_true.tail(10)\n",
    "data_true = data_true.iloc[:-10]"
   ]
  },
  {
   "cell_type": "code",
   "execution_count": 9,
   "id": "46e5fd1d-cca7-4ac1-9cdd-db3853c13405",
   "metadata": {},
   "outputs": [],
   "source": [
    "data_merge = pd.concat([data_fake, data_true], axis=0)"
   ]
  },
  {
   "cell_type": "code",
   "execution_count": 10,
   "id": "47ba54a9-6019-4130-82d7-54dc3770b95c",
   "metadata": {},
   "outputs": [],
   "source": [
    "data = data_merge.drop(['title', 'subject', 'date'], axis=1)"
   ]
  },
  {
   "cell_type": "code",
   "execution_count": 11,
   "id": "931d50cc-bddc-482a-a445-d89958fb0024",
   "metadata": {},
   "outputs": [],
   "source": [
    "data = data.sample(frac=1).reset_index(drop=True)"
   ]
  },
  {
   "cell_type": "code",
   "execution_count": 13,
   "id": "7a1b9340-7759-4b96-90c2-8a8149bf6885",
   "metadata": {},
   "outputs": [],
   "source": [
    "# Apply preprocessing\n",
    "data['text'] = data['text'].apply(wordopt)"
   ]
  },
  {
   "cell_type": "code",
   "execution_count": 14,
   "id": "77bca5dd-ac68-453b-b097-141322710af3",
   "metadata": {},
   "outputs": [],
   "source": [
    "x = data[\"text\"]\n",
    "y = data[\"class\"]"
   ]
  },
  {
   "cell_type": "code",
   "execution_count": 25,
   "id": "32875c3a-ad67-4dfb-ab8f-8117545cc239",
   "metadata": {},
   "outputs": [
    {
     "ename": "SyntaxError",
     "evalue": "invalid syntax (1009706523.py, line 2)",
     "output_type": "error",
     "traceback": [
      "\u001b[0;36m  Cell \u001b[0;32mIn[25], line 2\u001b[0;36m\u001b[0m\n\u001b[0;31m    x_train, x_val, y_train, y_val = train_test_split(x_train, y_train, test_size=0.25, random_state=1)vectorization = TfidfVectorizer(stop_words='english', max_df=0.95, min_df=2)\u001b[0m\n\u001b[0m                                                                                                       ^\u001b[0m\n\u001b[0;31mSyntaxError\u001b[0m\u001b[0;31m:\u001b[0m invalid syntax\n"
     ]
    }
   ],
   "source": [
    "x_train, x_test, y_train, y_test = train_test_split(x, y, test_size=0.2, random_state=1)\n",
    "x_train, x_val, y_train, y_val = train_test_split(x_train, y_train, test_size=0.25, random_state=1)vectorization = TfidfVectorizer(stop_words='english', max_df=0.95, min_df=2)\n",
    "xv_train = vectorization.fit_transform(x_train)\n",
    "xv_val = vectorization.transform(x_val)\n",
    "xv_test = vectorization.transform(x_test)"
   ]
  },
  {
   "cell_type": "code",
   "execution_count": 16,
   "id": "eaf5b607-51b6-46e1-8386-b29c14a4f48a",
   "metadata": {},
   "outputs": [],
   "source": []
  },
  {
   "cell_type": "code",
   "execution_count": null,
   "id": "0b7245c4-1123-4ff5-923e-f09fe9c7dfd9",
   "metadata": {},
   "outputs": [],
   "source": []
  }
 ],
 "metadata": {
  "kernelspec": {
   "display_name": "Python 3 (ipykernel)",
   "language": "python",
   "name": "python3"
  },
  "language_info": {
   "codemirror_mode": {
    "name": "ipython",
    "version": 3
   },
   "file_extension": ".py",
   "mimetype": "text/x-python",
   "name": "python",
   "nbconvert_exporter": "python",
   "pygments_lexer": "ipython3",
   "version": "3.10.12"
  }
 },
 "nbformat": 4,
 "nbformat_minor": 5
}
